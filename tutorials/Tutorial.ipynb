{
 "cells": [
  {
   "cell_type": "markdown",
   "id": "2ea3e56c-a498-4ce8-8f3d-d08d95caa2c6",
   "metadata": {},
   "source": [
    "## Tutorial for Language Modeling with NN.Transformer and TorchText\n",
    "\n",
    "Refer to the origianl contents [Pytorch Tutorial](https://pytorch.org/tutorials/beginner/transformer_tutorial.html)\n",
    "\n"
   ]
  },
  {
   "cell_type": "code",
   "execution_count": null,
   "id": "a49969ea-4ee9-4084-acbe-c03829a71cdb",
   "metadata": {},
   "outputs": [],
   "source": []
  },
  {
   "cell_type": "code",
   "execution_count": null,
   "id": "78f607fa-40d6-443d-be71-2c3d1ff35a5a",
   "metadata": {},
   "outputs": [],
   "source": []
  }
 ],
 "metadata": {
  "kernelspec": {
   "display_name": "Python 3 (ipykernel)",
   "language": "python",
   "name": "python3"
  },
  "language_info": {
   "codemirror_mode": {
    "name": "ipython",
    "version": 3
   },
   "file_extension": ".py",
   "mimetype": "text/x-python",
   "name": "python",
   "nbconvert_exporter": "python",
   "pygments_lexer": "ipython3",
   "version": "3.9.12"
  }
 },
 "nbformat": 4,
 "nbformat_minor": 5
}
